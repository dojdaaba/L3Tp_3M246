{
 "cells": [
  {
   "cell_type": "markdown",
   "metadata": {},
   "source": [
    "# TP 5 : Estimation et méthode de Monte Carlo 3M246 JAFUNO Douba"
   ]
  },
  {
   "cell_type": "code",
   "execution_count": 1,
   "metadata": {},
   "outputs": [],
   "source": [
    "from random import random, gauss\n",
    "from math import sin, pi, cos"
   ]
  },
  {
   "cell_type": "markdown",
   "metadata": {},
   "source": [
    "# 1 Estimation de la moyenne d’une variable"
   ]
  },
  {
   "cell_type": "code",
   "execution_count": 2,
   "metadata": {},
   "outputs": [],
   "source": [
    "#écrire un programme qui calcule un intervalle de confiance pour\n",
    "#la moyenne de la variable considérée. Pour écrire le programme, on donnera une valeur arbitraire à la\n",
    "#moyenne, et on calculera l’intervalle de confiance comme si la moyenne ´etait inconnue.\n",
    "#Pour chaque exemple, on calculera 1000 intervalles de confiance, et on comptera parmi ces derniers\n",
    "#combien contenaient effectivement la valeur théorique.\n"
   ]
  },
  {
   "cell_type": "code",
   "execution_count": 3,
   "metadata": {},
   "outputs": [
    {
     "name": "stdout",
     "output_type": "stream",
     "text": [
      "Valeur theorique : 1.5\n",
      "Intervalle de confiance pour 1000 simulations : [ 1.430359 , 1.554321 ]\n",
      "Sur 1000 intervalles de confiance calcules avec 100 variables, 94.100000% contenaient la valeur theorique.\n"
     ]
    }
   ],
   "source": [
    "# cas d’une variable X de loi N (m, 1) o`u m est inconnu.\n",
    "\n",
    "m = 1.5 #  valeur de m pour l'ic \n",
    "\n",
    "def IC_N_m_1(N):\n",
    "    moy = sum([gauss(m,1) for i in range(N)]) / N \n",
    "    largeur = 1.96 * N**-0.5\n",
    "    return moy-largeur , moy+largeur\n",
    "\n",
    "\n",
    "\n",
    "print(\"Valeur theorique :\", m)\n",
    "\n",
    "a,b = IC_N_m_1(1000)\n",
    "print(\"Intervalle de confiance pour %d simulations : [ %f , %f ]\" % (1000,a,b))\n",
    "\n",
    "N_IC = 1000 # Nb d'intervalles de confiance calcules\n",
    "N = 100 # Nb de variables pour calculer un ic\n",
    "nb_succes = 0\n",
    "for i in range(N_IC):\n",
    "    a,b = IC_N_m_1(N)\n",
    "    if a<m<b:\n",
    "        nb_succes += 1\n",
    "        \n",
    "#compter parmi ces derniers combien contenaient effectivement la valeur théorique.\n",
    "print(\"Sur %d intervalles de confiance calcules avec %d variables, %f%% contenaient la valeur theorique.\" % (N_IC, N, nb_succes*N/float(N_IC)))"
   ]
  },
  {
   "cell_type": "code",
   "execution_count": 4,
   "metadata": {},
   "outputs": [
    {
     "name": "stdout",
     "output_type": "stream",
     "text": [
      "Valeur theorique :  0.23\n",
      "Intervalle de confiance pour 100 simulations : [ 0.132000 , 0.328000 ]\n",
      "Intervalle de confiance pour 1000 simulations : [ 0.198010 , 0.259990 ]\n",
      "Intervalle de confiance pour 10000 simulations : [ 0.223700 , 0.243300 ]\n",
      "Sur 1000 intervalles de confiance calcules avec 10000 variables, 9860.000000% contenaient la valeur theorique.\n"
     ]
    }
   ],
   "source": [
    "#cas variables de loi B(p), avec p fixe, mais inconnu.\n",
    "\n",
    "p = 0.23 #  valeur de p pour l'ic\n",
    "\n",
    "def bernoulli():\n",
    "    if random()<p:\n",
    "        return 1\n",
    "    else:\n",
    "        return 0\n",
    "\n",
    "def IC_b(N):\n",
    "    moy = sum([bernoulli() for i in range(N)]) / float(N) \n",
    "    largeur = 1.96 * N**-0.5 / 2\n",
    "    return moy-largeur , moy+largeur\n",
    "\n",
    "print(\"Valeur theorique : \", p)\n",
    "for N in [100, 1000, 10000]:\n",
    "    a,b = IC_b(N)\n",
    "    print(\"Intervalle de confiance pour %d simulations : [ %f , %f ]\" % (N,a,b))\n",
    "\n",
    "\n",
    "nb_succes = 0\n",
    "for i in range(N_IC):\n",
    "    a,b = IC_b(N)\n",
    "    if a<p<b:\n",
    "        nb_succes += 1\n",
    "print(\"Sur %d intervalles de confiance calcules avec %d variables, %f%% contenaient la valeur theorique.\" % (N_IC, N, nb_succes*N/float(N_IC)))\n"
   ]
  },
  {
   "cell_type": "code",
   "execution_count": 5,
   "metadata": {},
   "outputs": [
    {
     "name": "stdout",
     "output_type": "stream",
     "text": [
      "Valeur theorique :  -2.9\n",
      "Intervalle de confiance pour 100 simulations : [ -3.889552 , -2.435059 ]\n",
      "Intervalle de confiance pour 1000 simulations : [ -3.188964 , -2.728862 ]\n",
      "Intervalle de confiance pour 10000 simulations : [ -3.044203 , -2.902358 ]\n",
      "Sur 1000 intervalles de confiance calcules avec 10000 variables, 9430.000000% contenaient la valeur theorique.\n"
     ]
    }
   ],
   "source": [
    "#variables de loi N(m,sigma^2), avec m et sigma fixes, mais inconnus On cherche m.\n",
    "\n",
    "m = -2.9\n",
    "sigma2 = 3.7\n",
    "\n",
    "def IC_N_m_s(N):\n",
    "    X = [gauss(m,sigma2) for i in range(N)]\n",
    "    moy = sum(X) / N \n",
    "    moy_carres = sum([x**2 for x in X])/N \n",
    "    s2_n = moy_carres - moy**2\n",
    "    largeur = 1.96 * (s2_n/N)**0.5 \n",
    "    return moy-largeur , moy+largeur\n",
    "\n",
    "\n",
    "print(\"Valeur theorique : \", m)\n",
    "for N in [100, 1000, 10000]:\n",
    "    a,b = IC_N_m_s(N)\n",
    "    print(\"Intervalle de confiance pour %d simulations : [ %f , %f ]\" % (N,a,b))\n",
    "\n",
    "\n",
    "nb_succes = 0\n",
    "for i in range(N_IC):\n",
    "    a,b = IC_N_m_s(N)\n",
    "    if a<m<b:\n",
    "        nb_succes += 1\n",
    "print(\"Sur %d intervalles de confiance calcules avec %d variables, %f%% contenaient la valeur theorique.\" % (N_IC, N, nb_succes*N/float(N_IC)))"
   ]
  },
  {
   "cell_type": "markdown",
   "metadata": {},
   "source": [
    "# 2 Influence de la variance"
   ]
  },
  {
   "cell_type": "code",
   "execution_count": 6,
   "metadata": {},
   "outputs": [
    {
     "name": "stdout",
     "output_type": "stream",
     "text": [
      "Intervalle de confiance 1 [ 1.256923 , 1.354596 ]\n"
     ]
    }
   ],
   "source": [
    "\n",
    "## MC integrale de I=cos(x)/x^1/3 sur [0,1]\n",
    "\n",
    "N = 1000 # Nombre de simulation\n",
    "\n",
    "\n",
    "## Fct qui calcule I \n",
    "def f(x):\n",
    "    return cos(x) * x**-(1.0/3)\n",
    "\n",
    "simus = [f(random()) for i in range(N)] # Les sim des f(U).\n",
    "\n",
    "moy = sum(simus)/N\n",
    "var = sum(s**2 for s in simus)/N - moy**2\n",
    "print(\"Intervalle de confiance 1 [ %f , %f ]\" % (moy - 1.96*(var/N)**0.5 , moy + 1.96*(var/N)**0.5)) \n",
    "\n"
   ]
  },
  {
   "cell_type": "code",
   "execution_count": 7,
   "metadata": {},
   "outputs": [
    {
     "name": "stdout",
     "output_type": "stream",
     "text": [
      "Intervalle de confiance 2 :[ 1.306490 , 1.330969 ]\n"
     ]
    }
   ],
   "source": [
    "## Deuxieme methode \n",
    "\n",
    "def g(x):\n",
    "    return 1.5*cos(x)\n",
    "\n",
    "simus = [g(random()**1.5) for i in range(N)] \n",
    "\n",
    "moy = sum(simus)/N\n",
    "var = sum(s**2 for s in simus)/N - moy**2 \n",
    "print(\"Intervalle de confiance 2 :[ %f , %f ]\" % (moy - 1.96*(var/N)**0.5 , moy + 1.96*(var/N)**0.5))"
   ]
  },
  {
   "cell_type": "markdown",
   "metadata": {},
   "source": [
    "# 3 Robustesse de la méthode"
   ]
  },
  {
   "cell_type": "code",
   "execution_count": 8,
   "metadata": {},
   "outputs": [
    {
     "name": "stdout",
     "output_type": "stream",
     "text": [
      "Valeur theorique :  2.550164039877345\n",
      "Intervalle de confiance construit a partir de 1000000 simulations.\n",
      "[2.388499469577336, 2.5860925304226643]\n"
     ]
    }
   ],
   "source": [
    "#Estimation du volume de la boule unite en dimension 10\n",
    "from math import gamma\n",
    "\n",
    "d = 10 # La dimension\n",
    "\n",
    "# fct qui renvoie une loi uniforme sur [-1,1]^d.\n",
    "def X():\n",
    "    return [2*random()-1 for i in range(d)]\n",
    "\n",
    "def bd(x):\n",
    "    if sum([t**2 for t in x])<1:\n",
    "        return 2.**d # Volume de [-1,1]^d\n",
    "    else:\n",
    "        return 0\n",
    "\n",
    "N= 1000000 # Nb de simulations\n",
    "\n",
    "simus = [bd(X()) for i in range(N)]\n",
    "\n",
    "moy = sum(simus)/N\n",
    "var = sum(s**2 for s in simus)/N - moy**2\n",
    "\n",
    "print(\"Valeur theorique : \", (pi**(0.5*d)/gamma(0.5*d+1)))\n",
    "\n",
    "\n",
    "print(\"Intervalle de confiance construit a partir de %d simulations.\" % N)\n",
    "print([moy - 1.96*(var/N)**0.5 , moy + 1.96*(var/N)**0.5])"
   ]
  }
 ],
 "metadata": {
  "kernelspec": {
   "display_name": "Python 3",
   "language": "python",
   "name": "python3"
  },
  "language_info": {
   "codemirror_mode": {
    "name": "ipython",
    "version": 3
   },
   "file_extension": ".py",
   "mimetype": "text/x-python",
   "name": "python",
   "nbconvert_exporter": "python",
   "pygments_lexer": "ipython3",
   "version": "3.7.1"
  }
 },
 "nbformat": 4,
 "nbformat_minor": 4
}
