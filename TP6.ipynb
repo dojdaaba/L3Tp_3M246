{
 "cells": [
  {
   "cell_type": "markdown",
   "metadata": {},
   "source": [
    " # TP 6 : Chaines de Markov 3M246 JAFUNO Douba"
   ]
  },
  {
   "cell_type": "markdown",
   "metadata": {},
   "source": [
    "# 1 Simulation d’une trajectoire"
   ]
  },
  {
   "cell_type": "code",
   "execution_count": 1,
   "metadata": {},
   "outputs": [],
   "source": [
    "from random import random\n",
    "from numpy import matrix\n",
    "import matplotlib.pyplot as plt"
   ]
  },
  {
   "cell_type": "code",
   "execution_count": 2,
   "metadata": {},
   "outputs": [],
   "source": [
    "# Question 1 \n",
    "\n",
    "def markov(i, P):\n",
    "    unif = random()\n",
    "    somme = 0\n",
    "    j = 0\n",
    "    while somme<unif:\n",
    "        somme += P[i,j]\n",
    "        j += 1\n",
    "    return j-1\n"
   ]
  },
  {
   "cell_type": "code",
   "execution_count": 3,
   "metadata": {},
   "outputs": [
    {
     "data": {
      "image/png": "[encoded data removed]",
      "text/plain": [
       "<Figure size 432x288 with 1 Axes>"
      ]
     },
     "metadata": {
      "needs_background": "light"
     },
     "output_type": "display_data"
    }
   ],
   "source": [
    "\n",
    "# Question 2 #\n",
    "# Trajectoire d'une chaine de matrice de transition donnee.\n",
    "P = matrix('2 1 0 ; 1 1 1 ; 1 2 0') / 3.\n",
    "Xn = 0\n",
    "traj = [Xn] #va contenir les positions successives de la chaine.\n",
    "for i in range(100):\n",
    "    Xn = markov(Xn, P)\n",
    "    traj.append(Xn)\n",
    "plt.plot(traj,'or')\n",
    "plt.axis([-1,101,-1,3])\n",
    "plt.show()\n",
    "\n"
   ]
  },
  {
   "cell_type": "code",
   "execution_count": 4,
   "metadata": {},
   "outputs": [
    {
     "data": {
      "image/png": "[encoded data removed]",
      "text/plain": [
       "<Figure size 432x288 with 1 Axes>"
      ]
     },
     "metadata": {
      "needs_background": "light"
     },
     "output_type": "display_data"
    }
   ],
   "source": [
    "\n",
    "# Questiont 3 \n",
    "# Trajectoire du modele d'Ehnrenfest\n",
    "\n",
    "N = 100 # Nombre de particules\n",
    "P = matrix(  [ [0.]*(N+1) ]*(N+1)  )\n",
    "for i in range(N):\n",
    "    P[i,i+1] = N-i\n",
    "    P[i+1,i] = (i+1)\n",
    "P /= float(N)\n",
    "    \n",
    "Xn = 0\n",
    "traj = [Xn] # Liste qui va contenir la trajectoire\n",
    "for i in range(1000):\n",
    "    Xn = markov(Xn, P)\n",
    "    traj.append(Xn)\n",
    "plt.plot(traj)\n",
    "plt.show()\n",
    "\n",
    "\n"
   ]
  },
  {
   "cell_type": "markdown",
   "metadata": {},
   "source": [
    "# 2 Théorème ergodique et temps de retour"
   ]
  },
  {
   "cell_type": "code",
   "execution_count": 5,
   "metadata": {},
   "outputs": [
    {
     "data": {
      "image/png": "[encoded data removed]",
      "text/plain": [
       "<Figure size 432x288 with 1 Axes>"
      ]
     },
     "metadata": {
      "needs_background": "light"
     },
     "output_type": "display_data"
    }
   ],
   "source": [
    "\n",
    "#Questions 4, 5 et 6 \n",
    "\n",
    "# La matrice de transition de la marche sur le graphe.\n",
    "P_gr = matrix('0 12 0 0 0 0 ; 3 0 0 3 3 3 ; 0 0 0 0 0 12 ; 0 6 0 0 6 0 ; 0 4 0 4 0 4 ; 0 4 4 0 4 0')/12.\n",
    "\n",
    "N = 1400 # Nombre de pas de la trajectoire\n",
    "Xn = 0\n",
    "traj = [Xn] # La trajectoire\n",
    "for i in range(N):\n",
    "    Xn = markov(Xn, P_gr)\n",
    "    traj.append(Xn)\n",
    "\n",
    "# L'hist de la trajectoire\n",
    "plt.hist(traj, density=True, bins=[-0.5+i for i in range(7)])\n",
    "\n",
    "# La probabilite invariante, proportionnelle aux nombre d'aretes\n",
    "# issues de chaque sommet.\n",
    "plt.plot([1/14., 4/14., 1/14., 2/14., 3/14., 3/14.],'or')\n",
    "plt.show()\n",
    "\n"
   ]
  },
  {
   "cell_type": "code",
   "execution_count": 6,
   "metadata": {},
   "outputs": [
    {
     "name": "stdout",
     "output_type": "stream",
     "text": [
      "Temps de retour en 0 : theorique 14.00  --  observe 13.92\n",
      "Temps de retour en 1 : theorique 3.50  --  observe 3.44\n",
      "Temps de retour en 2 : theorique 14.00  --  observe 13.91\n",
      "Temps de retour en 3 : theorique 7.00  --  observe 6.87\n",
      "Temps de retour en 4 : theorique 4.67  --  observe 4.62\n",
      "Temps de retour en 5 : theorique 4.67  --  observe 4.67\n"
     ]
    }
   ],
   "source": [
    "#Question 7 \n",
    "\n",
    "N = 1000 \n",
    "\n",
    "# Le temps de retour moyen a chaque sommet (inverse des poids la probabilite invariante)\n",
    "tps_moy_th = [14, 14/4., 14, 14/2., 14/3., 14/3.]\n",
    "\n",
    "for i in range(6):\n",
    "    temps_moy = 0\n",
    "    for n in range(N):\n",
    "        Xn = markov(i,P_gr)\n",
    "        temps = 1\n",
    "        while Xn != i:\n",
    "            Xn = markov(Xn,P_gr)\n",
    "            temps += 1\n",
    "        temps_moy += temps/float(N)\n",
    "    print(\"Temps de retour en %d : theorique %.2f  --  observe %.2f\" % (i, tps_moy_th[i], temps_moy))\n",
    " "
   ]
  },
  {
   "cell_type": "markdown",
   "metadata": {},
   "source": [
    "# 3 Convergence en loi"
   ]
  },
  {
   "cell_type": "code",
   "execution_count": 7,
   "metadata": {},
   "outputs": [
    {
     "name": "stdout",
     "output_type": "stream",
     "text": [
      "La matrice P1^100 :\n",
      "[[0.43434343 0.         0.56565657 0.         0.        ]\n",
      " [0.         0.14343434 0.         0.36969697 0.48686869]\n",
      " [0.43434343 0.         0.56565657 0.         0.        ]\n",
      " [0.         0.14343434 0.         0.36969697 0.48686869]\n",
      " [0.         0.14343434 0.         0.36969697 0.48686869]]\n",
      "La matrice P1^101 :\n",
      "[[0.         0.14343434 0.         0.36969697 0.48686869]\n",
      " [0.43434343 0.         0.56565657 0.         0.        ]\n",
      " [0.         0.14343434 0.         0.36969697 0.48686869]\n",
      " [0.43434343 0.         0.56565657 0.         0.        ]\n",
      " [0.43434343 0.         0.56565657 0.         0.        ]]\n",
      "La matrice P2^100 :\n",
      "[[0.17539164 0.11048562 0.30201099 0.18607871 0.22603305]\n",
      " [0.17538633 0.11048611 0.30200247 0.18608467 0.22604043]\n",
      " [0.17539191 0.11048559 0.30201142 0.18607841 0.22603267]\n",
      " [0.17538636 0.1104861  0.30200252 0.18608464 0.22604039]\n",
      " [0.17538758 0.11048599 0.30200447 0.18608327 0.22603869]]\n",
      "La matrice P2^101 :\n",
      "[[0.17538708 0.11048604 0.30200368 0.18608382 0.22603938]\n",
      " [0.17539183 0.1104856  0.30201129 0.1860785  0.22603278]\n",
      " [0.17538684 0.11048606 0.30200329 0.18608409 0.22603971]\n",
      " [0.1753918  0.1104856  0.30201125 0.18607853 0.22603282]\n",
      " [0.17539071 0.1104857  0.3020095  0.18607975 0.22603433]]\n"
     ]
    }
   ],
   "source": [
    "   \n",
    "#Question 8\n",
    "\n",
    "P = matrix('0 0.2 0 0.2 0.6 ; 0.3 0 0.7 0 0 ; 0 0.1 0 0.5 0.4 ; 0.4 0 0.6 0 0 ; 0.5 0 0.5 0 0')\n",
    "\n",
    "print(\"La matrice P1^100 :\")\n",
    "print(P**100)\n",
    "print(\"La matrice P1^101 :\")\n",
    "print(P**101)\n",
    "print\n",
    "print\n",
    "\n",
    "\n",
    "P[4,0] = 0.3\n",
    "P[4,1] = 0.2\n",
    "\n",
    "print(\"La matrice P2^100 :\")\n",
    "print(P**100)\n",
    "print(\"La matrice P2^101 :\")\n",
    "print(P**101)"
   ]
  }
 ],
 "metadata": {
  "kernelspec": {
   "display_name": "Python 3",
   "language": "python",
   "name": "python3"
  },
  "language_info": {
   "codemirror_mode": {
    "name": "ipython",
    "version": 3
   },
   "file_extension": ".py",
   "mimetype": "text/x-python",
   "name": "python",
   "nbconvert_exporter": "python",
   "pygments_lexer": "ipython3",
   "version": "3.7.1"
  }
 },
 "nbformat": 4,
 "nbformat_minor": 4
}
